{
 "cells": [
  {
   "cell_type": "markdown",
   "id": "MFMuFXX3jD_O",
   "metadata": {
    "id": "MFMuFXX3jD_O"
   },
   "source": [
    "### O objetivo desse projeto é utilizar Redes Neuras Convolucionais (CNN) para a classificação de objetos de uma base de imagens bastante conhecida \"CIFAR-10\", que possui mais de 60.000 dados de imagens 32x32 contendo as seguintes categorias de imagens: avião, automóvel, passáro, gato, veado, cachorro, sapo, cavalo, navio e caminhão.\n",
    "### Ao longo do projeto, vamos utilizar diferentes CNN, como a VGG16, VGG19, ResNet50, aplicando diferentes ténicas para melhorar o modelo, como Data Augmentation, que é capaz de realizar pequenas alterações nas imagens a fim de obter mais variações para o treinamento, ténicas de TransferLearning, que é capaz de utilizar um modelo que já foi treinado com o objetivo de poupar recursos para treinar novos modelos e também aproveitar seu desempenho.\n",
    "### Então nosso projeto consiste nas seguintes etapas:\n"
   ]
  },
  {
   "cell_type": "markdown",
   "id": "33567a6e-de07-45c8-9ea3-f6d6202d5d9c",
   "metadata": {
    "id": "33567a6e-de07-45c8-9ea3-f6d6202d5d9c"
   },
   "source": [
    "### - Carregar dados\n",
    "### - Definir modelo Keras\n",
    "### - Compilar modelo Keras\n",
    "### - Ajustar (fit) modelo Keras\n",
    "### - Avaliar (evaluate) modelo Keras\n",
    "### - Previsão"
   ]
  },
  {
   "cell_type": "markdown",
   "id": "mw3QhVBalrKO",
   "metadata": {
    "id": "mw3QhVBalrKO"
   },
   "source": [
    "Realizando as importações necessárias para iniciar o projeto, e ocultando possíveis warnings que são relevantes para o projeto."
   ]
  },
  {
   "cell_type": "code",
   "execution_count": null,
   "id": "aa491d97-4007-429a-8d51-8efeae3121c7",
   "metadata": {
    "id": "aa491d97-4007-429a-8d51-8efeae3121c7"
   },
   "outputs": [],
   "source": [
    "import os\n",
    "import warnings\n",
    "\n",
    "warnings.filterwarnings(\"ignore\")\n",
    "os.environ['TF_CPP_MIN_LOG_LEVEL'] = \"2\"\n",
    "\n",
    "import tensorflow as tf\n",
    "from tensorflow import keras\n",
    "from tensorflow.keras import layers\n",
    "from tensorflow.keras.preprocessing.image import ImageDataGenerator\n",
    "from tensorflow.keras.applications.vgg19 import VGG19, preprocess_input\n",
    "from keras.utils import to_categorical\n",
    "import matplotlib.pyplot as plt"
   ]
  },
  {
   "cell_type": "markdown",
   "id": "43af1bf6-3c00-4fe3-9ad1-c2f6af5ad1f3",
   "metadata": {
    "id": "43af1bf6-3c00-4fe3-9ad1-c2f6af5ad1f3"
   },
   "source": [
    "### Carregando os dados da base CIFAR-10 e separando as imagens em treino e teste para realizar o treinamento do modelo e a avaliação da performance."
   ]
  },
  {
   "cell_type": "code",
   "execution_count": null,
   "id": "68cb4d21-bcdc-46c2-a130-09298e95b195",
   "metadata": {
    "colab": {
     "base_uri": "https://localhost:8080/"
    },
    "id": "68cb4d21-bcdc-46c2-a130-09298e95b195",
    "outputId": "7d50639e-0bd4-4f15-8fb9-bd4d50094125"
   },
   "outputs": [],
   "source": [
    "cifar10 = keras.datasets.cifar10\n",
    "(X_train, y_train), (X_test, y_test) = cifar10.load_data()"
   ]
  },
  {
   "cell_type": "markdown",
   "id": "bRUky8JEp83a",
   "metadata": {
    "id": "bRUky8JEp83a"
   },
   "source": [
    "Visualizando as primeiras imagens do Dataset com Matplotlib bem como o shape das Imagens. É possível perceber que as imagens estão em baixa resolução e o shape contém 60 mil amostras 32x32 com 3 canais de cores, que é o RGB."
   ]
  },
  {
   "cell_type": "code",
   "execution_count": null,
   "id": "e3f5a671-0f3b-45f5-abb1-e163bfbbd259",
   "metadata": {
    "colab": {
     "base_uri": "https://localhost:8080/",
     "height": 814
    },
    "id": "e3f5a671-0f3b-45f5-abb1-e163bfbbd259",
    "outputId": "c6d208cd-8530-4deb-f922-dc42d51017f5"
   },
   "outputs": [],
   "source": [
    "class_names = [\n",
    "    \"airplane\",\n",
    "    \"automobile\",\n",
    "    \"bird\",\n",
    "    \"cat\",\n",
    "    \"deer\",\n",
    "    \"dog\",\n",
    "    \"frog\",\n",
    "    \"horse\",\n",
    "    \"ship\",\n",
    "    \"truck\",\n",
    "]\n",
    "\n",
    "fig, axs = plt.subplots(3, 3, figsize=(12, 8))\n",
    "for i, ax in enumerate(axs.flat):\n",
    "    ax.imshow(X_test[i])\n",
    "    ax.set_title(f\"Class: {class_names[y_test[i][0]]}\")\n",
    "    ax.axis(\"off\")\n",
    "\n",
    "\n",
    "fig.subplots_adjust(hspace=0.6)\n",
    "print()\n",
    "print('-='*30, 'IMAGENS CIFAR-10', '-='*30)\n",
    "print()\n",
    "plt.show()\n",
    "print()\n",
    "print('-='*30, 'SHAPE', '-='*30)\n",
    "print()\n",
    "print('Amostras de Treino: ', X_train.shape)\n",
    "print('Amostras de Teste: ', y_train.shape)"
   ]
  },
  {
   "cell_type": "markdown",
   "id": "PPkf2Lc0t-qh",
   "metadata": {
    "id": "PPkf2Lc0t-qh"
   },
   "source": [
    "### Normalizando o conjunto de dados X\n",
    "\n",
    "#### O conjunto de dados X_train e X_test não possui valores normalizados, variando de 0 a 255, para normalizar os dados vamos dividi-los por 255 para os valores ficarem entre 0 e 1."
   ]
  },
  {
   "cell_type": "code",
   "execution_count": null,
   "id": "8h0Nhh3euB-o",
   "metadata": {
    "id": "8h0Nhh3euB-o"
   },
   "outputs": [],
   "source": [
    "X_train = (X_train.astype('float32') / 255.)\n",
    "X_test = (X_test.astype('float32') / 255.)"
   ]
  },
  {
   "cell_type": "markdown",
   "id": "35e84484-7edf-4bfb-901e-237b71e23c87",
   "metadata": {
    "id": "35e84484-7edf-4bfb-901e-237b71e23c87"
   },
   "source": [
    "### Transformar o y_test, e y_train em to_categorical:\n",
    "#### O y_test e o y_train estão representando o índice da imagem que se trata o conjunto de dados, para o modelo treinado não identificar no treinamento alguma relação dos índices, vamos aplicar o one_hot com a ideia de binarizar a classificação da imagem. Por exemplo, o conjunto X' é um gato, que é representado pelo índice 3, quando aplicamos o one_hot o gato será representado pelo seguinte array: [0, 0, 0, 1, 0, 0, 0, 0, 0, 0, 0], ou seja, atribui o valor 1 no índice 3 que é classificado para o gato e 0 para os demais. Essa técnicas pode melhorar o desemepenho do nosso modelo para o modelo não identificar relações na nossa variável target que não existe.\n"
   ]
  },
  {
   "cell_type": "code",
   "execution_count": null,
   "id": "sQbynprLtYYa",
   "metadata": {
    "id": "sQbynprLtYYa"
   },
   "outputs": [],
   "source": [
    "y_train = to_categorical(y_train)\n",
    "y_test = to_categorical(y_test)"
   ]
  },
  {
   "cell_type": "markdown",
   "id": "3f0e88b7-2cac-46f7-960a-1ce361bb632e",
   "metadata": {
    "id": "3f0e88b7-2cac-46f7-960a-1ce361bb632e"
   },
   "source": [
    "### Definindo a arquitetura do modelo com Keras\n",
    "#### Primeiramente, vamos utilizar um modelo bem simples com 8 camadas e 204.602 parâmetros, aplicando técnicas de regularização, como o Dropout, que consiste em aplicar um \"esquecimento\" de neurônios com o objetivo da rede não depender e dar um peso alto para algum neurônio, também aplicar o MaxPooling para reduzir a dimensionalidade das feature map e coletando as características mais ativas.\n",
    "\n",
    "#### Também, vamos inicializar os pesos dos neurônios aleatoriamente com o parâmetro \"kernel_initializer\", pois quando aplicar o Gradiente, técnica para a variação dos pesos para a redução da função custo, não possuir a mesma variancia para todos os parâmetros, caso contrário todos os pesos seriam alterados da mesma forma."
   ]
  },
  {
   "cell_type": "code",
   "execution_count": null,
   "id": "OrkflZOlvTtn",
   "metadata": {
    "colab": {
     "base_uri": "https://localhost:8080/",
     "height": 385
    },
    "id": "OrkflZOlvTtn",
    "outputId": "5db44a7b-1d4d-4a52-8be5-741fcb8d25cb"
   },
   "outputs": [],
   "source": [
    "model = keras.models.Sequential()\n",
    "model.add(layers.InputLayer(input_shape=(32, 32, 3)))\n",
    "model.add(layers.Conv2D(32, (3, 3), activation=\"relu\", padding=\"valid\"))\n",
    "model.add(layers.MaxPooling2D())\n",
    "model.add(layers.Conv2D(64, (3, 3), activation=\"relu\", padding=\"same\"))\n",
    "model.add(layers.MaxPooling2D())\n",
    "model.add(layers.Flatten())\n",
    "model.add(layers.Dense(80, kernel_initializer='glorot_uniform', activation=\"relu\"))\n",
    "model.add(layers.Dropout(0.2))\n",
    "model.add(layers.Dense(10, kernel_initializer='glorot_uniform', activation=\"softmax\"))\n",
    "\n",
    "model.summary()"
   ]
  },
  {
   "cell_type": "markdown",
   "id": "Pv0oPLDOzdu7",
   "metadata": {
    "id": "Pv0oPLDOzdu7"
   },
   "source": [
    "#### Definir nosso otimizador do Gradiente, a métrica e a função custo e treinamento o modelo.\n",
    "#### Aplicando um batch size de 200 amostras para calcular o custo e com 10 épocas para atualização dos pesos. O parâmetro validation_data com verbose=1, serve para o modelo testar em cada época a sua performance com os dados de teste e msotrar na tela."
   ]
  },
  {
   "cell_type": "code",
   "execution_count": null,
   "id": "ZSDL1BeLzvPh",
   "metadata": {
    "colab": {
     "base_uri": "https://localhost:8080/"
    },
    "id": "ZSDL1BeLzvPh",
    "outputId": "2f73cdca-3602-4cf4-8b8b-1bea82747a75"
   },
   "outputs": [],
   "source": [
    "optimizer = keras.optimizers.Adam(beta_1=0.8)\n",
    "loss = keras.losses.CategoricalCrossentropy()\n",
    "metric = keras.metrics.CategoricalAccuracy()\n",
    "\n",
    "model.compile(\n",
    "    optimizer=optimizer,\n",
    "    loss=loss,\n",
    "    metrics=[metric],\n",
    ")\n",
    "\n",
    "hist = model.fit(\n",
    "    X_train,\n",
    "    y_train,\n",
    "    epochs=10,\n",
    "    batch_size=256,\n",
    "    validation_data=(X_test, y_test),\n",
    "    verbose=1\n",
    ")"
   ]
  },
  {
   "cell_type": "markdown",
   "id": "L_AvC__G4X6D",
   "metadata": {
    "id": "L_AvC__G4X6D"
   },
   "source": [
    "#### Com esse modelo simples foi possível atingir uma acurácia de 68%.\n",
    "#### Vamos visualizar de forma gŕafica o desempenho do treinamento. É possível visualizar que a acurácia de teste performou melhor que a do treino, o que é muito bom para o modelo."
   ]
  },
  {
   "cell_type": "code",
   "execution_count": null,
   "id": "DoVMvdDy4oNM",
   "metadata": {
    "colab": {
     "base_uri": "https://localhost:8080/",
     "height": 449
    },
    "id": "DoVMvdDy4oNM",
    "outputId": "528b3c34-7017-4175-a338-1d4f7669c972"
   },
   "outputs": [],
   "source": [
    "acc_train = hist.history['categorical_accuracy']\n",
    "acc_test = hist.history['val_categorical_accuracy']\n",
    "\n",
    "plt.plot(acc_train, '-g', label='Train Accuracy')\n",
    "plt.plot(acc_test, '-b', label='Test Accuracy')\n",
    "plt.legend()\n",
    "plt.xlabel('Epochs')\n",
    "plt.ylabel('Accuracy')\n",
    "plt.show()"
   ]
  },
  {
   "cell_type": "markdown",
   "id": "-2zmKIbqBbmF",
   "metadata": {
    "id": "-2zmKIbqBbmF"
   },
   "source": [
    "### Aumentando artificialmente o conjunto de dados CIFAR-10\n",
    "#### Com a técnicas data augmentation, é possível fazer pequenas variações nas imagens de treinamento, com o objetivo do modelo perceber outros padrões que se comportam como uma nova imagem. Entre essas alterações podem incluir: Zoom, Deslocamento da imagem e Rotação, que serão aplicadas em cada época do treinamento. É importante inicializar novamente a arquitetura antes."
   ]
  },
  {
   "cell_type": "code",
   "execution_count": null,
   "id": "t1xublj8FsNy",
   "metadata": {
    "colab": {
     "base_uri": "https://localhost:8080/",
     "height": 513
    },
    "id": "t1xublj8FsNy",
    "outputId": "fddf1c15-ef13-48c5-e6bd-aa2e3dfa87c1"
   },
   "outputs": [],
   "source": [
    "model = keras.models.Sequential()\n",
    "model.add(layers.InputLayer(input_shape=(32, 32, 3)))\n",
    "model.add(layers.Conv2D(32, (3, 3), activation='relu', padding='valid'))\n",
    "model.add(layers.Conv2D(32, (3, 3), activation='relu', padding='valid'))\n",
    "model.add(layers.MaxPooling2D())\n",
    "model.add(layers.Conv2D(64, (3, 3), activation='relu', padding='valid'))\n",
    "model.add(layers.Conv2D(64, (3, 3), activation='relu', padding='valid'))\n",
    "model.add(layers.MaxPooling2D())\n",
    "model.add(layers.Conv2D(128, (3, 3), activation='relu', padding='valid'))\n",
    "model.add(layers.Conv2D(128, (3, 3), activation='relu', padding='valid'))\n",
    "model.add(layers.Flatten())\n",
    "model.add(layers.Dense(120, kernel_initializer='glorot_uniform', activation=\"relu\"))\n",
    "model.add(layers.Dropout(0.2))\n",
    "model.add(layers.Dense(10, kernel_initializer='glorot_uniform', activation=\"relu\"))\n",
    "\n",
    "model.summary()"
   ]
  },
  {
   "cell_type": "code",
   "execution_count": null,
   "id": "beXsrNmoB01h",
   "metadata": {
    "colab": {
     "base_uri": "https://localhost:8080/",
     "height": 391
    },
    "id": "beXsrNmoB01h",
    "outputId": "960be0c1-d35a-4fe6-920c-c86ea9029f98"
   },
   "outputs": [],
   "source": [
    "# Data augmentation\n",
    "aug_data = ImageDataGenerator(width_shift_range=0.1, height_shift_range=0.1, horizontal_flip=True)\n",
    "aug_train = aug_data.flow(X_train, y_train, batch_size=200)\n",
    "\n",
    "# Define optimizer, loss, and metrics\n",
    "optimizer = keras.optimizers.Adam(beta_1=0.8)  # Adjusted beta_1, default is 0.9\n",
    "loss = keras.losses.CategoricalCrossentropy()\n",
    "metrics = [keras.metrics.CategoricalAccuracy()]  # Use a list\n",
    "\n",
    "# Compile model\n",
    "model.compile(\n",
    "    optimizer=optimizer,\n",
    "    loss=loss,\n",
    "    metrics=metrics,\n",
    ")\n",
    "\n",
    "# Number of steps per epoch\n",
    "n_steps = X_train.shape[0] // 200\n",
    "\n",
    "# Train the model\n",
    "hist = model.fit(\n",
    "    aug_train,\n",
    "    steps_per_epoch=n_steps,\n",
    "    epochs=70,\n",
    "    validation_data=(X_test, y_test),  # No need for batch_size here\n",
    "    verbose=1\n",
    ")\n"
   ]
  },
  {
   "cell_type": "markdown",
   "id": "VCzKwtonUpw9",
   "metadata": {
    "id": "VCzKwtonUpw9"
   },
   "source": [
    "### Esse modelo atingiu 83% de acurácia nos dados de teste"
   ]
  },
  {
   "cell_type": "code",
   "execution_count": null,
   "id": "OOtpWzyrUjlO",
   "metadata": {
    "colab": {
     "base_uri": "https://localhost:8080/",
     "height": 449
    },
    "id": "OOtpWzyrUjlO",
    "outputId": "9809b180-6078-49c0-96ba-1e81ba5f23a1"
   },
   "outputs": [],
   "source": [
    "acc_train = hist.history['accuracy']\n",
    "acc_test = hist.history['val_accuracy']\n",
    "\n",
    "import matplotlib.pyplot as plt\n",
    "\n",
    "plt.plot(acc_train, '-g', label='Train Accuracy')\n",
    "plt.plot(acc_test, '-b', label='Test Accuracy')\n",
    "plt.legend()\n",
    "plt.xlabel('Epochs')\n",
    "plt.ylabel('Accuracy')\n",
    "plt.show()"
   ]
  },
  {
   "cell_type": "markdown",
   "id": "e1FDHDpxeWg8",
   "metadata": {
    "id": "e1FDHDpxeWg8"
   },
   "source": [
    "### Testando com outros modelos: VGG19, ResNet50.\n",
    "#### Vamos aplicar diferentes técnicas para utilizar o VGG19 e o ResNet50, uma deles é o early stopping com o parâmetro from epoch, essa técnica visa parar o modelos, caso uma condição de performance seja atingida, como o custo não variar muito. E o from epoch é quando utilizamos o Transfer Learning, para não interromper o treinamento cedo demais, então o early_stopping só vai ser aplicada quando passar pela época definida."
   ]
  },
  {
   "cell_type": "markdown",
   "id": "14538f43-f2c6-4e7d-a0f6-655a1a205060",
   "metadata": {
    "id": "14538f43-f2c6-4e7d-a0f6-655a1a205060"
   },
   "source": [
    "### Ajuste dos parâmetros"
   ]
  }
 ],
 "metadata": {
  "accelerator": "TPU",
  "colab": {
   "gpuType": "V28",
   "provenance": []
  },
  "kernelspec": {
   "display_name": "Python 3 (ipykernel)",
   "language": "python",
   "name": "python3"
  },
  "language_info": {
   "codemirror_mode": {
    "name": "ipython",
    "version": 3
   },
   "file_extension": ".py",
   "mimetype": "text/x-python",
   "name": "python",
   "nbconvert_exporter": "python",
   "pygments_lexer": "ipython3",
   "version": "3.12.3"
  }
 },
 "nbformat": 4,
 "nbformat_minor": 5
}
